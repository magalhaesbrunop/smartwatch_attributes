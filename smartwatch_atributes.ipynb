{
  "nbformat": 4,
  "nbformat_minor": 0,
  "metadata": {
    "colab": {
      "name": "smartwatch_atributes.ipynb",
      "provenance": [],
      "mount_file_id": "1Iq5yTwZVY9GlvJRyyz-OHqKmyRnGlour",
      "authorship_tag": "ABX9TyPLYRAzwa2gfz9jvpWQ4EJF",
      "include_colab_link": true
    },
    "kernelspec": {
      "name": "python3",
      "display_name": "Python 3"
    },
    "language_info": {
      "name": "python"
    }
  },
  "cells": [
    {
      "cell_type": "markdown",
      "metadata": {
        "id": "view-in-github",
        "colab_type": "text"
      },
      "source": [
        "<a href=\"https://colab.research.google.com/github/magalhaesbrunop/smartwatch_attributes/blob/main/smartwatch_atributes.ipynb\" target=\"_parent\"><img src=\"https://colab.research.google.com/assets/colab-badge.svg\" alt=\"Open In Colab\"/></a>"
      ]
    },
    {
      "cell_type": "code",
      "source": [
        "! pip install --upgrade gspread"
      ],
      "metadata": {
        "colab": {
          "base_uri": "https://localhost:8080/"
        },
        "id": "XsJXjds4X4IU",
        "outputId": "8d5934de-1bfd-4e99-9e7f-ccc1eee6448a"
      },
      "execution_count": 1,
      "outputs": [
        {
          "output_type": "stream",
          "name": "stdout",
          "text": [
            "Requirement already satisfied: gspread in /usr/local/lib/python3.7/dist-packages (5.3.0)\n",
            "Requirement already satisfied: google-auth>=1.12.0 in /usr/local/lib/python3.7/dist-packages (from gspread) (1.35.0)\n",
            "Requirement already satisfied: google-auth-oauthlib>=0.4.1 in /usr/local/lib/python3.7/dist-packages (from gspread) (0.4.6)\n",
            "Requirement already satisfied: setuptools>=40.3.0 in /usr/local/lib/python3.7/dist-packages (from google-auth>=1.12.0->gspread) (57.4.0)\n",
            "Requirement already satisfied: pyasn1-modules>=0.2.1 in /usr/local/lib/python3.7/dist-packages (from google-auth>=1.12.0->gspread) (0.2.8)\n",
            "Requirement already satisfied: six>=1.9.0 in /usr/local/lib/python3.7/dist-packages (from google-auth>=1.12.0->gspread) (1.15.0)\n",
            "Requirement already satisfied: rsa<5,>=3.1.4 in /usr/local/lib/python3.7/dist-packages (from google-auth>=1.12.0->gspread) (4.8)\n",
            "Requirement already satisfied: cachetools<5.0,>=2.0.0 in /usr/local/lib/python3.7/dist-packages (from google-auth>=1.12.0->gspread) (4.2.4)\n",
            "Requirement already satisfied: requests-oauthlib>=0.7.0 in /usr/local/lib/python3.7/dist-packages (from google-auth-oauthlib>=0.4.1->gspread) (1.3.1)\n",
            "Requirement already satisfied: pyasn1<0.5.0,>=0.4.6 in /usr/local/lib/python3.7/dist-packages (from pyasn1-modules>=0.2.1->google-auth>=1.12.0->gspread) (0.4.8)\n",
            "Requirement already satisfied: requests>=2.0.0 in /usr/local/lib/python3.7/dist-packages (from requests-oauthlib>=0.7.0->google-auth-oauthlib>=0.4.1->gspread) (2.23.0)\n",
            "Requirement already satisfied: oauthlib>=3.0.0 in /usr/local/lib/python3.7/dist-packages (from requests-oauthlib>=0.7.0->google-auth-oauthlib>=0.4.1->gspread) (3.2.0)\n",
            "Requirement already satisfied: idna<3,>=2.5 in /usr/local/lib/python3.7/dist-packages (from requests>=2.0.0->requests-oauthlib>=0.7.0->google-auth-oauthlib>=0.4.1->gspread) (2.10)\n",
            "Requirement already satisfied: certifi>=2017.4.17 in /usr/local/lib/python3.7/dist-packages (from requests>=2.0.0->requests-oauthlib>=0.7.0->google-auth-oauthlib>=0.4.1->gspread) (2021.10.8)\n",
            "Requirement already satisfied: chardet<4,>=3.0.2 in /usr/local/lib/python3.7/dist-packages (from requests>=2.0.0->requests-oauthlib>=0.7.0->google-auth-oauthlib>=0.4.1->gspread) (3.0.4)\n",
            "Requirement already satisfied: urllib3!=1.25.0,!=1.25.1,<1.26,>=1.21.1 in /usr/local/lib/python3.7/dist-packages (from requests>=2.0.0->requests-oauthlib>=0.7.0->google-auth-oauthlib>=0.4.1->gspread) (1.24.3)\n"
          ]
        }
      ]
    },
    {
      "cell_type": "code",
      "source": [
        "!pip install --upgrade nltk"
      ],
      "metadata": {
        "colab": {
          "base_uri": "https://localhost:8080/"
        },
        "id": "s1rO4k5EjO2W",
        "outputId": "13fdc2f0-7be7-4134-baf3-fd487d54924d"
      },
      "execution_count": 2,
      "outputs": [
        {
          "output_type": "stream",
          "name": "stdout",
          "text": [
            "Requirement already satisfied: nltk in /usr/local/lib/python3.7/dist-packages (3.7)\n",
            "Requirement already satisfied: joblib in /usr/local/lib/python3.7/dist-packages (from nltk) (1.1.0)\n",
            "Requirement already satisfied: click in /usr/local/lib/python3.7/dist-packages (from nltk) (7.1.2)\n",
            "Requirement already satisfied: regex>=2021.8.3 in /usr/local/lib/python3.7/dist-packages (from nltk) (2022.3.15)\n",
            "Requirement already satisfied: tqdm in /usr/local/lib/python3.7/dist-packages (from nltk) (4.63.0)\n"
          ]
        }
      ]
    },
    {
      "cell_type": "code",
      "source": [
        "!pip install --upgrade Counter"
      ],
      "metadata": {
        "colab": {
          "base_uri": "https://localhost:8080/"
        },
        "id": "ZC3EP_ydjgW6",
        "outputId": "3bde9ee3-7ed7-4529-d0c7-7242874aa54e"
      },
      "execution_count": 3,
      "outputs": [
        {
          "output_type": "stream",
          "name": "stdout",
          "text": [
            "Requirement already satisfied: Counter in /usr/local/lib/python3.7/dist-packages (1.0.0)\n"
          ]
        }
      ]
    },
    {
      "cell_type": "code",
      "metadata": {
        "id": "JXUHE4SOSw_Z"
      },
      "source": [
        "from google.colab import auth\n",
        "auth.authenticate_user()\n",
        "\n",
        "import gspread\n",
        "from google.auth import default\n",
        "creds, _ = default()\n",
        "\n",
        "gc = gspread.authorize(creds)"
      ],
      "execution_count": 4,
      "outputs": []
    },
    {
      "cell_type": "code",
      "source": [
        "import pandas as pd\n",
        "\n",
        "from collections import Counter\n",
        "\n",
        "import nltk\n",
        "from nltk.corpus import stopwords\n",
        "from nltk.tokenize import word_tokenize"
      ],
      "metadata": {
        "id": "W4MV7f9eM_J7"
      },
      "execution_count": 5,
      "outputs": []
    },
    {
      "cell_type": "code",
      "metadata": {
        "id": "3M6TtTI_TsH3"
      },
      "source": [
        "spreadsheet = gc.open(\"[Lumus] Olist--Smartwatch\")"
      ],
      "execution_count": 6,
      "outputs": []
    },
    {
      "cell_type": "code",
      "source": [
        "page = spreadsheet.worksheet(\"size\")"
      ],
      "metadata": {
        "id": "JQidR2VLNSU-"
      },
      "execution_count": 7,
      "outputs": []
    },
    {
      "cell_type": "code",
      "metadata": {
        "id": "vZClkb8aVWZI"
      },
      "source": [
        "df = pd.DataFrame(page.get_all_records())"
      ],
      "execution_count": 8,
      "outputs": []
    },
    {
      "cell_type": "code",
      "source": [
        "df = df.drop (\n",
        "    columns=[\n",
        "             \"_id\",\n",
        "             \"size\",\n",
        "    ]\n",
        ")"
      ],
      "metadata": {
        "id": "D1l6ovnRMyni"
      },
      "execution_count": 9,
      "outputs": []
    },
    {
      "cell_type": "code",
      "source": [
        "df"
      ],
      "metadata": {
        "colab": {
          "base_uri": "https://localhost:8080/",
          "height": 424
        },
        "id": "InvYJ5iBOGp-",
        "outputId": "c2fe4651-09c8-4496-c88e-888afaf23ab2"
      },
      "execution_count": 10,
      "outputs": [
        {
          "output_type": "execute_result",
          "data": {
            "text/plain": [
              "                                             name_offer  \\\n",
              "0     3 Relogio Inteligente Smartwatch D20 Rosa What...   \n",
              "1        Ac751 - Relogio Para Estetoscopio Stetho Watch   \n",
              "2     Almofadas Compatíveis Bose Around Ear Triport ...   \n",
              "3     Apple Watch (Gps) Series 4 44Mm0 Space Gray Pu...   \n",
              "4       Apple Watch 44Mm Series 6 Silver Aluminum A2292   \n",
              "...                                                 ...   \n",
              "1647                                  Watch M4 Pro Azul   \n",
              "1648  Watch Relógio Inteligente B57 Band Hero 3 Fitn...   \n",
              "1649  Watch S 6 44Mm Gps Alumínio Cinza Pulseira Spo...   \n",
              "1650                          Xiaomi Relógio Amazif Neo   \n",
              "1651                         Xiaomi Smartband Mi Band 3   \n",
              "\n",
              "                                    structured_metadata  \\\n",
              "0     {\"funcao\":\"Smartwatch\",\"Cor do corpo do Relógi...   \n",
              "1     {\"cor\":\"Preto\",\"length\":\"15.0000\",\"height\":\"15...   \n",
              "2     {\"cor\":\"Preto\",\"length\":\"11.0000\",\"Entidade\":\"...   \n",
              "3     {\"marca\":\"Apple\",\"caracteristicas\":\"Gps\",\"Mode...   \n",
              "4     {\"funcao\":\"Digital\",\"condicao\":\"Novo\",\"Modelo ...   \n",
              "...                                                 ...   \n",
              "1647  {\"conectividade\":\"Android, bluetooth, ios\",\"co...   \n",
              "1648  {\"funcao\":\"Smartwatch\",\"caracteristicas\":\"Blue...   \n",
              "1649  {\"Com Bluetooth\":\"Sim\",\"Com gerenciamento de c...   \n",
              "1650  {\"marca\":\"Xiaomi\",\"length\":\"8.0000\",\"Entidade\"...   \n",
              "1651  {\"ANATEL\":\"02114-19-09185\",\"cor\":\"Preto\",\"leng...   \n",
              "\n",
              "                                           raw_metadata  \n",
              "0     Kit 3 Relógio Inteligente Smartwatch D20 Rosa ...  \n",
              "1     Ac751 - relogio para estetoscopio stetho watch...  \n",
              "2     Almofadas compatíveis bose around ear triport ...  \n",
              "3     Falar sobre a Apple é estar falando de sofisti...  \n",
              "4     Apple watch series 6 \\n\\nO nível de oxigênio n...  \n",
              "...                                                 ...  \n",
              "1647  Watch m4 pro. Material: plastico. Comprimento:...  \n",
              "1648  O Smartwatch B57 é um rastreador fitness intel...  \n",
              "1649  Watch S 6 44Mm Gps Alumínio Cinza Pulseira Spo...  \n",
              "1650  Xiaomi Relógio Amazif Neo \\n A CasantosExpress...  \n",
              "1651  Tela de toque OLED de 0.78 polegadas\\nMaior te...  \n",
              "\n",
              "[1652 rows x 3 columns]"
            ],
            "text/html": [
              "\n",
              "  <div id=\"df-68c88144-803d-4f83-8919-7b53e566a791\">\n",
              "    <div class=\"colab-df-container\">\n",
              "      <div>\n",
              "<style scoped>\n",
              "    .dataframe tbody tr th:only-of-type {\n",
              "        vertical-align: middle;\n",
              "    }\n",
              "\n",
              "    .dataframe tbody tr th {\n",
              "        vertical-align: top;\n",
              "    }\n",
              "\n",
              "    .dataframe thead th {\n",
              "        text-align: right;\n",
              "    }\n",
              "</style>\n",
              "<table border=\"1\" class=\"dataframe\">\n",
              "  <thead>\n",
              "    <tr style=\"text-align: right;\">\n",
              "      <th></th>\n",
              "      <th>name_offer</th>\n",
              "      <th>structured_metadata</th>\n",
              "      <th>raw_metadata</th>\n",
              "    </tr>\n",
              "  </thead>\n",
              "  <tbody>\n",
              "    <tr>\n",
              "      <th>0</th>\n",
              "      <td>3 Relogio Inteligente Smartwatch D20 Rosa What...</td>\n",
              "      <td>{\"funcao\":\"Smartwatch\",\"Cor do corpo do Relógi...</td>\n",
              "      <td>Kit 3 Relógio Inteligente Smartwatch D20 Rosa ...</td>\n",
              "    </tr>\n",
              "    <tr>\n",
              "      <th>1</th>\n",
              "      <td>Ac751 - Relogio Para Estetoscopio Stetho Watch</td>\n",
              "      <td>{\"cor\":\"Preto\",\"length\":\"15.0000\",\"height\":\"15...</td>\n",
              "      <td>Ac751 - relogio para estetoscopio stetho watch...</td>\n",
              "    </tr>\n",
              "    <tr>\n",
              "      <th>2</th>\n",
              "      <td>Almofadas Compatíveis Bose Around Ear Triport ...</td>\n",
              "      <td>{\"cor\":\"Preto\",\"length\":\"11.0000\",\"Entidade\":\"...</td>\n",
              "      <td>Almofadas compatíveis bose around ear triport ...</td>\n",
              "    </tr>\n",
              "    <tr>\n",
              "      <th>3</th>\n",
              "      <td>Apple Watch (Gps) Series 4 44Mm0 Space Gray Pu...</td>\n",
              "      <td>{\"marca\":\"Apple\",\"caracteristicas\":\"Gps\",\"Mode...</td>\n",
              "      <td>Falar sobre a Apple é estar falando de sofisti...</td>\n",
              "    </tr>\n",
              "    <tr>\n",
              "      <th>4</th>\n",
              "      <td>Apple Watch 44Mm Series 6 Silver Aluminum A2292</td>\n",
              "      <td>{\"funcao\":\"Digital\",\"condicao\":\"Novo\",\"Modelo ...</td>\n",
              "      <td>Apple watch series 6 \\n\\nO nível de oxigênio n...</td>\n",
              "    </tr>\n",
              "    <tr>\n",
              "      <th>...</th>\n",
              "      <td>...</td>\n",
              "      <td>...</td>\n",
              "      <td>...</td>\n",
              "    </tr>\n",
              "    <tr>\n",
              "      <th>1647</th>\n",
              "      <td>Watch M4 Pro Azul</td>\n",
              "      <td>{\"conectividade\":\"Android, bluetooth, ios\",\"co...</td>\n",
              "      <td>Watch m4 pro. Material: plastico. Comprimento:...</td>\n",
              "    </tr>\n",
              "    <tr>\n",
              "      <th>1648</th>\n",
              "      <td>Watch Relógio Inteligente B57 Band Hero 3 Fitn...</td>\n",
              "      <td>{\"funcao\":\"Smartwatch\",\"caracteristicas\":\"Blue...</td>\n",
              "      <td>O Smartwatch B57 é um rastreador fitness intel...</td>\n",
              "    </tr>\n",
              "    <tr>\n",
              "      <th>1649</th>\n",
              "      <td>Watch S 6 44Mm Gps Alumínio Cinza Pulseira Spo...</td>\n",
              "      <td>{\"Com Bluetooth\":\"Sim\",\"Com gerenciamento de c...</td>\n",
              "      <td>Watch S 6 44Mm Gps Alumínio Cinza Pulseira Spo...</td>\n",
              "    </tr>\n",
              "    <tr>\n",
              "      <th>1650</th>\n",
              "      <td>Xiaomi Relógio Amazif Neo</td>\n",
              "      <td>{\"marca\":\"Xiaomi\",\"length\":\"8.0000\",\"Entidade\"...</td>\n",
              "      <td>Xiaomi Relógio Amazif Neo \\n A CasantosExpress...</td>\n",
              "    </tr>\n",
              "    <tr>\n",
              "      <th>1651</th>\n",
              "      <td>Xiaomi Smartband Mi Band 3</td>\n",
              "      <td>{\"ANATEL\":\"02114-19-09185\",\"cor\":\"Preto\",\"leng...</td>\n",
              "      <td>Tela de toque OLED de 0.78 polegadas\\nMaior te...</td>\n",
              "    </tr>\n",
              "  </tbody>\n",
              "</table>\n",
              "<p>1652 rows × 3 columns</p>\n",
              "</div>\n",
              "      <button class=\"colab-df-convert\" onclick=\"convertToInteractive('df-68c88144-803d-4f83-8919-7b53e566a791')\"\n",
              "              title=\"Convert this dataframe to an interactive table.\"\n",
              "              style=\"display:none;\">\n",
              "        \n",
              "  <svg xmlns=\"http://www.w3.org/2000/svg\" height=\"24px\"viewBox=\"0 0 24 24\"\n",
              "       width=\"24px\">\n",
              "    <path d=\"M0 0h24v24H0V0z\" fill=\"none\"/>\n",
              "    <path d=\"M18.56 5.44l.94 2.06.94-2.06 2.06-.94-2.06-.94-.94-2.06-.94 2.06-2.06.94zm-11 1L8.5 8.5l.94-2.06 2.06-.94-2.06-.94L8.5 2.5l-.94 2.06-2.06.94zm10 10l.94 2.06.94-2.06 2.06-.94-2.06-.94-.94-2.06-.94 2.06-2.06.94z\"/><path d=\"M17.41 7.96l-1.37-1.37c-.4-.4-.92-.59-1.43-.59-.52 0-1.04.2-1.43.59L10.3 9.45l-7.72 7.72c-.78.78-.78 2.05 0 2.83L4 21.41c.39.39.9.59 1.41.59.51 0 1.02-.2 1.41-.59l7.78-7.78 2.81-2.81c.8-.78.8-2.07 0-2.86zM5.41 20L4 18.59l7.72-7.72 1.47 1.35L5.41 20z\"/>\n",
              "  </svg>\n",
              "      </button>\n",
              "      \n",
              "  <style>\n",
              "    .colab-df-container {\n",
              "      display:flex;\n",
              "      flex-wrap:wrap;\n",
              "      gap: 12px;\n",
              "    }\n",
              "\n",
              "    .colab-df-convert {\n",
              "      background-color: #E8F0FE;\n",
              "      border: none;\n",
              "      border-radius: 50%;\n",
              "      cursor: pointer;\n",
              "      display: none;\n",
              "      fill: #1967D2;\n",
              "      height: 32px;\n",
              "      padding: 0 0 0 0;\n",
              "      width: 32px;\n",
              "    }\n",
              "\n",
              "    .colab-df-convert:hover {\n",
              "      background-color: #E2EBFA;\n",
              "      box-shadow: 0px 1px 2px rgba(60, 64, 67, 0.3), 0px 1px 3px 1px rgba(60, 64, 67, 0.15);\n",
              "      fill: #174EA6;\n",
              "    }\n",
              "\n",
              "    [theme=dark] .colab-df-convert {\n",
              "      background-color: #3B4455;\n",
              "      fill: #D2E3FC;\n",
              "    }\n",
              "\n",
              "    [theme=dark] .colab-df-convert:hover {\n",
              "      background-color: #434B5C;\n",
              "      box-shadow: 0px 1px 3px 1px rgba(0, 0, 0, 0.15);\n",
              "      filter: drop-shadow(0px 1px 2px rgba(0, 0, 0, 0.3));\n",
              "      fill: #FFFFFF;\n",
              "    }\n",
              "  </style>\n",
              "\n",
              "      <script>\n",
              "        const buttonEl =\n",
              "          document.querySelector('#df-68c88144-803d-4f83-8919-7b53e566a791 button.colab-df-convert');\n",
              "        buttonEl.style.display =\n",
              "          google.colab.kernel.accessAllowed ? 'block' : 'none';\n",
              "\n",
              "        async function convertToInteractive(key) {\n",
              "          const element = document.querySelector('#df-68c88144-803d-4f83-8919-7b53e566a791');\n",
              "          const dataTable =\n",
              "            await google.colab.kernel.invokeFunction('convertToInteractive',\n",
              "                                                     [key], {});\n",
              "          if (!dataTable) return;\n",
              "\n",
              "          const docLinkHtml = 'Like what you see? Visit the ' +\n",
              "            '<a target=\"_blank\" href=https://colab.research.google.com/notebooks/data_table.ipynb>data table notebook</a>'\n",
              "            + ' to learn more about interactive tables.';\n",
              "          element.innerHTML = '';\n",
              "          dataTable['output_type'] = 'display_data';\n",
              "          await google.colab.output.renderOutput(dataTable, element);\n",
              "          const docLink = document.createElement('div');\n",
              "          docLink.innerHTML = docLinkHtml;\n",
              "          element.appendChild(docLink);\n",
              "        }\n",
              "      </script>\n",
              "    </div>\n",
              "  </div>\n",
              "  "
            ]
          },
          "metadata": {},
          "execution_count": 10
        }
      ]
    },
    {
      "cell_type": "code",
      "source": [
        "type(df)"
      ],
      "metadata": {
        "id": "c2l9-aLmQg9e",
        "colab": {
          "base_uri": "https://localhost:8080/"
        },
        "outputId": "dc4e81df-8e7b-40ea-c8bd-d6affd61db43"
      },
      "execution_count": 11,
      "outputs": [
        {
          "output_type": "execute_result",
          "data": {
            "text/plain": [
              "pandas.core.frame.DataFrame"
            ]
          },
          "metadata": {},
          "execution_count": 11
        }
      ]
    },
    {
      "cell_type": "code",
      "source": [
        "df.shape"
      ],
      "metadata": {
        "colab": {
          "base_uri": "https://localhost:8080/"
        },
        "id": "_2BU5w12dwNN",
        "outputId": "f06c1c08-540a-4266-bde1-bc2f5c3f9c78"
      },
      "execution_count": 12,
      "outputs": [
        {
          "output_type": "execute_result",
          "data": {
            "text/plain": [
              "(1652, 3)"
            ]
          },
          "metadata": {},
          "execution_count": 12
        }
      ]
    },
    {
      "cell_type": "code",
      "source": [
        "df.structured_metadata.str.len().values.any()"
      ],
      "metadata": {
        "colab": {
          "base_uri": "https://localhost:8080/"
        },
        "id": "-L-GhEYyckqR",
        "outputId": "e0cf604b-7c4d-4685-a736-bfc4175c10eb"
      },
      "execution_count": 13,
      "outputs": [
        {
          "output_type": "execute_result",
          "data": {
            "text/plain": [
              "True"
            ]
          },
          "metadata": {},
          "execution_count": 13
        }
      ]
    },
    {
      "cell_type": "code",
      "source": [
        "df.raw_metadata.str.len().values.any()"
      ],
      "metadata": {
        "colab": {
          "base_uri": "https://localhost:8080/"
        },
        "id": "z2u5P4pOckTZ",
        "outputId": "2151a8d9-c41d-450d-cb02-1b2e8475d331"
      },
      "execution_count": 14,
      "outputs": [
        {
          "output_type": "execute_result",
          "data": {
            "text/plain": [
              "True"
            ]
          },
          "metadata": {},
          "execution_count": 14
        }
      ]
    },
    {
      "cell_type": "code",
      "source": [
        "df.name_offer.str.len().values.any()"
      ],
      "metadata": {
        "colab": {
          "base_uri": "https://localhost:8080/"
        },
        "id": "vNMOb_L0asQf",
        "outputId": "42f98e2c-85d4-4874-f011-d08688192d9a"
      },
      "execution_count": 15,
      "outputs": [
        {
          "output_type": "execute_result",
          "data": {
            "text/plain": [
              "True"
            ]
          },
          "metadata": {},
          "execution_count": 15
        }
      ]
    },
    {
      "cell_type": "code",
      "source": [
        "(df.name_offer.str.len() == 0).sum()"
      ],
      "metadata": {
        "colab": {
          "base_uri": "https://localhost:8080/"
        },
        "id": "bepXwRuGasTJ",
        "outputId": "5a9b5ba8-00ad-4622-fa6f-e4f27a888cdf"
      },
      "execution_count": 16,
      "outputs": [
        {
          "output_type": "execute_result",
          "data": {
            "text/plain": [
              "0"
            ]
          },
          "metadata": {},
          "execution_count": 16
        }
      ]
    },
    {
      "cell_type": "code",
      "source": [
        "(df.raw_metadata.str.len() == 0).sum()"
      ],
      "metadata": {
        "colab": {
          "base_uri": "https://localhost:8080/"
        },
        "id": "-rIOT54RasWG",
        "outputId": "7f9fec0f-2f0c-4142-81ff-19c730b3f19c"
      },
      "execution_count": 17,
      "outputs": [
        {
          "output_type": "execute_result",
          "data": {
            "text/plain": [
              "0"
            ]
          },
          "metadata": {},
          "execution_count": 17
        }
      ]
    },
    {
      "cell_type": "code",
      "source": [
        "(df.structured_metadata.str.len() == 0).sum()"
      ],
      "metadata": {
        "colab": {
          "base_uri": "https://localhost:8080/"
        },
        "id": "SJnNPhBQasZK",
        "outputId": "7944e321-dfec-47cd-8447-43385d30010b"
      },
      "execution_count": 18,
      "outputs": [
        {
          "output_type": "execute_result",
          "data": {
            "text/plain": [
              "0"
            ]
          },
          "metadata": {},
          "execution_count": 18
        }
      ]
    },
    {
      "cell_type": "code",
      "source": [
        "nltk.download(\"stopwords\")\n",
        "portuguese = stopwords.words(\"portuguese\")"
      ],
      "metadata": {
        "colab": {
          "base_uri": "https://localhost:8080/"
        },
        "id": "-Eean8vjidji",
        "outputId": "efb26e61-03d8-4727-9881-fda329128f24"
      },
      "execution_count": 19,
      "outputs": [
        {
          "output_type": "stream",
          "name": "stderr",
          "text": [
            "[nltk_data] Downloading package stopwords to /root/nltk_data...\n",
            "[nltk_data]   Package stopwords is already up-to-date!\n"
          ]
        }
      ]
    },
    {
      "cell_type": "code",
      "source": [
        "name_offer = df[\"name_offer\"]\n",
        "str_mdata = df[\"structured_metadata\"]\n",
        "raw_mdata = df[\"raw_metadata\"]"
      ],
      "metadata": {
        "id": "UzywCBtPidga"
      },
      "execution_count": 20,
      "outputs": []
    },
    {
      "cell_type": "code",
      "source": [
        "stop_words = set(stopwords.words(\"portuguese\"))"
      ],
      "metadata": {
        "id": "akBrLSeEWAME"
      },
      "execution_count": 21,
      "outputs": []
    },
    {
      "cell_type": "code",
      "source": [
        "n_offer = list(name_offer)\n",
        "n_offer.sort()"
      ],
      "metadata": {
        "id": "hYoKik3_V_oL"
      },
      "execution_count": 33,
      "outputs": []
    },
    {
      "cell_type": "code",
      "source": [
        "def clean_offer(offer, stop_words=set(stopwords.words(\"portuguese\"))):\n",
        "\n",
        "  words = word_tokenize(offer.lower())\n",
        "\n",
        "  filtered_words = []\n",
        "\n",
        "  for word in words:\n",
        "  \n",
        "    if word not in stop_words and word.isalpha():\n",
        "      filtered_words.append(word)\n",
        "\n",
        "  return filtered_words"
      ],
      "metadata": {
        "id": "K3hYxKi_iddl"
      },
      "execution_count": 34,
      "outputs": []
    },
    {
      "cell_type": "code",
      "source": [
        ""
      ],
      "metadata": {
        "id": "p-RFoMmIpl_V"
      },
      "execution_count": null,
      "outputs": []
    },
    {
      "cell_type": "code",
      "source": [
        ""
      ],
      "metadata": {
        "id": "V4p9AVrqtQNC"
      },
      "execution_count": null,
      "outputs": []
    }
  ]
}